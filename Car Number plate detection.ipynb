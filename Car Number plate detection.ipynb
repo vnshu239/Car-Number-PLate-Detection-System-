{
 "cells": [
  {
   "cell_type": "code",
   "execution_count": 3,
   "id": "380e0d7c",
   "metadata": {},
   "outputs": [],
   "source": [
    "#Code Written By Vansh\n",
    "import cv2\n",
    "from datetime import *\n",
    "dt = datetime.now() #Importing date for saving picture with mentioned time\n",
    "cap = cv2.VideoCapture(0)\n",
    "cap.set(3,640) #Width of Frame\n",
    "cap.set(4,480) #Height of Frame\n",
    "min_area = 500\n",
    "haar = \"d:/College/Intern/August 2024/Cascade CV/haarcascade_russian_plate_number.xml\"\n",
    "while True:\n",
    "    success,img = cap.read() \n",
    "    cascade = cv2.CascadeClassifier(haar)\n",
    "    img_gray = cv2.cvtColor(img,cv2.COLOR_BGR2GRAY) #Coverting Captured frames to Gray Scale for Better Result\n",
    "    plates = cascade.detectMultiScale(img_gray,1.1,4) # Here we get 4 thing x axis,y axis, width , height\n",
    "    for(x,y,w,h) in plates:\n",
    "        area = w*h #Getting the Area at Run time\n",
    "        if(area >min_area):\n",
    "            cv2.rectangle(img,(x,y),(x+w,h+y),(0,255,0),2) #Creating Rectangle on Number PLate\n",
    "            cv2.putText(img,\"Number Plate\",(x,y-5),cv2.FONT_HERSHEY_COMPLEX_SMALL,1,(255,0,255),2)\n",
    "            img_roi = img[y:y+h,x:x+w] #Creating Region of Interest (Number Plate)\n",
    "            cv2.imshow('Image',img_roi) #Showing ROI on Different Window\n",
    "    cv2.imshow(\"Result\",img)\n",
    "    \n",
    "    key = cv2.waitKey(1) & 0xFF\n",
    "    if(key == ord('s')): #This Saving block will trigger when s Key pressed on keyboard\n",
    "        dt_str = dt.strftime(\"%Y-%m-%d_%H-%M-%S\")  # Format date and time\n",
    "        filename = f\"d:/College/Intern/August 2024/plates/scanned_img_{dt_str}.jpg\"#location where you want to save the picture of Number Plate\n",
    "        cv2.imwrite(filename,img_roi) #Saving the file on the location above given\n",
    "        cv2.rectangle(img,(0,200),(640,300),(0,255,0),cv2.FILLED) #Creating again Rectangle after Saving file\n",
    "        cv2.putText(img,'plate saved',(150,265),cv2.FONT_HERSHEY_COMPLEX_SMALL,2,(0,0,255),2) #Show Output as PLate Saved\n",
    "        cv2.imshow(\"Result\",img)\n",
    "        cv2.waitKey(500)\n",
    "    elif(key == 27): #on pressing ESC button the program Ends\n",
    "        break\n",
    "cap.release() #The Camera Released\n",
    "cv2.destroyAllWindows() #All Windows will removed automatically"
   ]
  }
 ],
 "metadata": {
  "kernelspec": {
   "display_name": "Python 3 (ipykernel)",
   "language": "python",
   "name": "python3"
  },
  "language_info": {
   "codemirror_mode": {
    "name": "ipython",
    "version": 3
   },
   "file_extension": ".py",
   "mimetype": "text/x-python",
   "name": "python",
   "nbconvert_exporter": "python",
   "pygments_lexer": "ipython3",
   "version": "3.11.5"
  }
 },
 "nbformat": 4,
 "nbformat_minor": 5
}
